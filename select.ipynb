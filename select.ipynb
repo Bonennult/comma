{
 "cells": [
  {
   "cell_type": "code",
   "execution_count": 1,
   "metadata": {},
   "outputs": [
    {
     "name": "stderr",
     "output_type": "stream",
     "text": [
      "/home/liyi/anaconda3/lib/python3.6/site-packages/h5py/__init__.py:36: FutureWarning: Conversion of the second argument of issubdtype from `float` to `np.floating` is deprecated. In future, it will be treated as `np.float64 == np.dtype(float).type`.\n",
      "  from ._conv import register_converters as _register_converters\n"
     ]
    }
   ],
   "source": [
    "import os\n",
    "import numpy as np\n",
    "#import h5py\n",
    "import json\n",
    "import matplotlib.pyplot as plt\n",
    "from data_reader import datagen, read_by_idx"
   ]
  },
  {
   "cell_type": "markdown",
   "metadata": {},
   "source": [
    "## eccode numpy arrays to gif"
   ]
  },
  {
   "cell_type": "code",
   "execution_count": 2,
   "metadata": {},
   "outputs": [],
   "source": [
    "def save_gif(gif_fname, images, fps):\n",
    "    \"\"\"\n",
    "    To generate a gif from image files, first generate palette from images\n",
    "    and then generate the gif from the images and the palette.\n",
    "    ffmpeg -i input_%02d.jpg -vf palettegen -y palette.png\n",
    "    ffmpeg -i input_%02d.jpg -i palette.png -lavfi paletteuse -y output.gif\n",
    "    Alternatively, use a filter to map the input images to both the palette\n",
    "    and gif commands, while also passing the palette to the gif command.\n",
    "    ffmpeg -i input_%02d.jpg -filter_complex \"[0:v]split[x][z];[z]palettegen[y];[x][y]paletteuse\" -y output.gif\n",
    "    To directly pass in numpy images, use rawvideo format and `-i -` option.\n",
    "    \"\"\"\n",
    "    from subprocess import Popen, PIPE\n",
    "    head, tail = os.path.split(gif_fname)\n",
    "    if head and not os.path.exists(head):\n",
    "        os.makedirs(head)\n",
    "    h, w, c = images[0].shape\n",
    "    cmd = ['ffmpeg', '-y',\n",
    "           '-f', 'rawvideo',\n",
    "           '-vcodec', 'rawvideo',\n",
    "           '-r', '%.02f' % fps,\n",
    "           '-s', '%dx%d' % (w, h),\n",
    "           '-pix_fmt', {1: 'gray', 3: 'rgb24', 4: 'rgba'}[c],\n",
    "           '-i', '-',\n",
    "           '-filter_complex', '[0:v]split[x][z];[z]palettegen[y];[x][y]paletteuse',\n",
    "           '-r', '%.02f' % fps,\n",
    "           '%s' % gif_fname]\n",
    "    proc = Popen(cmd, stdin=PIPE, stdout=PIPE, stderr=PIPE)\n",
    "    for image in images:\n",
    "        proc.stdin.write(image.tostring())\n",
    "    out, err = proc.communicate()\n",
    "    if proc.returncode:\n",
    "        err = '\\n'.join([' '.join(cmd), err.decode('utf8')])\n",
    "        raise IOError(err)\n",
    "    del proc\n",
    "\n",
    "def encode_gif(images, fps):\n",
    "    from subprocess import Popen, PIPE\n",
    "    h, w, c = images[0].shape\n",
    "    cmd = ['ffmpeg', '-y',\n",
    "           '-f', 'rawvideo',\n",
    "           '-vcodec', 'rawvideo',\n",
    "           '-r', '%.02f' % fps,\n",
    "           '-s', '%dx%d' % (w, h),\n",
    "           '-pix_fmt', {1: 'gray', 3: 'rgb24', 4: 'rgba'}[c],\n",
    "           '-i', '-',\n",
    "           '-filter_complex', '[0:v]split[x][z];[z]palettegen[y];[x][y]paletteuse',\n",
    "           '-r', '%.02f' % fps,\n",
    "           '-f', 'gif',\n",
    "           '-']\n",
    "    proc = Popen(cmd, stdin=PIPE, stdout=PIPE, stderr=PIPE)\n",
    "    for image in images:\n",
    "        proc.stdin.write(image.tostring())\n",
    "    out, err = proc.communicate()\n",
    "    if proc.returncode:\n",
    "        err = '\\n'.join([' '.join(cmd), err.decode('utf8')])\n",
    "        raise IOError(err)\n",
    "    del proc\n",
    "    return out"
   ]
  },
  {
   "cell_type": "markdown",
   "metadata": {},
   "source": [
    "## metrics to compute distance between iamges"
   ]
  },
  {
   "cell_type": "code",
   "execution_count": 3,
   "metadata": {},
   "outputs": [],
   "source": [
    "def metric_mse(img1,img2):\n",
    "    assert img1.shape==img2.shape\n",
    "    return np.mean(np.square(img2-img1))\n",
    "\n",
    "def metric_l1(img1,img2):\n",
    "    assert img1.shape==img2.shape\n",
    "    return np.mean(np.abs(img2-img1))\n",
    "\n",
    "def metric_psnr(true, pred, keep_axis=None):\n",
    "    mse = metric_mse(true,pred)\n",
    "    psnr = 10.0 * np.log10(255**2 / mse)\n",
    "    return psnr\n",
    "\n",
    "def metric_ssim(true, pred, K1=0.01, K2=0.03, sigma=1.5, win_size=None,\n",
    "                             data_range=1.0, gaussian_weights=False,\n",
    "                             use_sample_covariance=True, keep_axis=None):\n",
    "    from skimage.measure import compare_ssim\n",
    "    kwargs = dict(K1=K1, K2=K2,\n",
    "                  win_size=win_size,\n",
    "                  data_range=data_range,\n",
    "                  multichannel=True,\n",
    "                  gaussian_weights=gaussian_weights,\n",
    "                  sigma=sigma,\n",
    "                  use_sample_covariance=use_sample_covariance)\n",
    "    assert true.shape == pred.shape\n",
    "    #shape = true.shape\n",
    "    #true = true.reshape((-1,) + shape[-3:])\n",
    "    #pred = pred.reshape((-1,) + shape[-3:])\n",
    "    ssim = compare_ssim(true, pred, multichannel=True)#, **kwargs)\n",
    "    #for true_y, pred_y in zip(true, pred):\n",
    "        #ssim.append(compare_ssim(true_y, pred_y, **kwargs))\n",
    "    #ssim = np.reshape(ssim, shape[:-3])\n",
    "    return ssim  #np.mean(ssim)"
   ]
  },
  {
   "cell_type": "markdown",
   "metadata": {},
   "source": [
    "## save selected index of train dataset to `npz` file"
   ]
  },
  {
   "cell_type": "code",
   "execution_count": null,
   "metadata": {},
   "outputs": [],
   "source": [
    "def save_log_npz(index,glob):\n",
    "    try:\n",
    "        info = np.load('./log_modefied/train_index.npz')\n",
    "        index = np.concatenate((info['selected'], index), axis=0)\n",
    "\n",
    "    except FileNotFoundError:\n",
    "        index=[]\n",
    "        glob=0\n",
    "        pass\n",
    "\n",
    "    np.savez('./log_modefied/train_index.npz', selected=index, global_idx=glob)\n",
    "    \n",
    "def read_log_npz():\n",
    "    try:\n",
    "        info = np.load('./log_modefied/train_index.npz')\n",
    "        glob = info['global_idx']\n",
    "\n",
    "    except FileNotFoundError:\n",
    "        glob=0\n",
    "        np.savez('./log_modefied/train_index.npz', global_idx=glob)\n",
    "        pass\n",
    "    \n",
    "    return glob"
   ]
  },
  {
   "cell_type": "markdown",
   "metadata": {},
   "source": [
    "## save selected index of train dataset to `json` file"
   ]
  },
  {
   "cell_type": "code",
   "execution_count": 4,
   "metadata": {},
   "outputs": [],
   "source": [
    "def save_log(glob, data_type, index):\n",
    "    try:\n",
    "        with open('./log_modefied/train_index.json', 'r') as f:\n",
    "            info = json.load(f)\n",
    "        info['glob'] = glob\n",
    "        for i in range(len(index)):      # 转为str以便存入json文件\n",
    "            index[i] = str(index[i])\n",
    "        if data_type is None:\n",
    "            pass\n",
    "        elif len(data_type) == 1:        # 所有类相同时，data_type可以只传入一个元素\n",
    "            d_type = data_type * len(index)\n",
    "        else:\n",
    "            d_type = data_type\n",
    "        for k in range(len(d_type)):\n",
    "            if d_type[k] not in info.keys():\n",
    "                info[d_type[k]] = [index[k]]\n",
    "            else:\n",
    "                info[d_type[k]] = info[d_type[k]] + [index[k]]\n",
    "            info[d_type[k]] = list(set(info[d_type[k]]))\n",
    "\n",
    "    except FileNotFoundError:\n",
    "        info = {'glob':'0'}\n",
    "        pass\n",
    "\n",
    "    with open('./log_modefied/train_index.json', 'w') as f:\n",
    "        f.write(json.dumps(info))\n",
    "    \n",
    "def read_log():\n",
    "    try:\n",
    "        with open('./log_modefied/train_index.json', 'r') as f:\n",
    "            info = json.load(f)\n",
    "            ratio = {}\n",
    "            total = 0\n",
    "            for k,v in info.items():\n",
    "                if k == 'glob':\n",
    "                    continue\n",
    "                ratio[k] = len(v)\n",
    "                total = total + len(v)\n",
    "            for k,v in ratio.items():\n",
    "                print(k + ' : %2.2f %%' % (100*v/total))\n",
    "    except FileNotFoundError:\n",
    "        info = {'glob':'0'}\n",
    "        with open('./log_modefied/train_index.json', 'w') as f:\n",
    "            f.write(json.dumps(info))\n",
    "    \n",
    "    return info['glob']"
   ]
  },
  {
   "cell_type": "markdown",
   "metadata": {},
   "source": [
    "### read images from h5 file"
   ]
  },
  {
   "cell_type": "code",
   "execution_count": 5,
   "metadata": {},
   "outputs": [
    {
     "name": "stdout",
     "output_type": "stream",
     "text": [
      "others : 100.00 %\n",
      "348704\n"
     ]
    }
   ],
   "source": [
    "train_path = [\n",
    "    './camera/2016-01-30--11-24-51.h5',\n",
    "    './camera/2016-01-31--19-19-25.h5',\n",
    "    './camera/2016-02-02--10-16-58.h5',\n",
    "    './camera/2016-02-08--14-56-28.h5',\n",
    "    './camera/2016-02-11--21-32-47.h5',\n",
    "    './camera/2016-03-29--10-50-20.h5',\n",
    "    './camera/2016-04-21--14-48-08.h5',]\n",
    "\n",
    "# 2 for validation\n",
    "validation_path = [\n",
    "    './camera/2016-06-02--21-39-29.h5',\n",
    "    './camera/2016-06-08--11-46-01.h5']\n",
    "\n",
    "# 2 for test\n",
    "test_path = [\n",
    "    './camera/2016-01-30--13-46-00.h5',\n",
    "    './camera/2016-05-12--22-20-00.h5',]\n",
    "\n",
    "datapath = train_path\n",
    "time_length = 30\n",
    "pack_size = 6            # 每个tfrecords文件中有256个视频序列\n",
    "fps = 6\n",
    "# yield (X_batch, dset_num, index, glob)\n",
    "glob = int(read_log())\n",
    "print(glob)\n",
    "gen = datagen(datapath, time_len=time_length, batch_size=pack_size, ignore_goods=False, global_idx=glob)"
   ]
  },
  {
   "cell_type": "markdown",
   "metadata": {},
   "source": [
    "## save as gif files and select one by one\n",
    "\n",
    "0. `others`：其他种类\n",
    "1. `daytime_normal`：白天正常行驶\n",
    "2. `night_normal`：夜晚正常行驶\n",
    "3. `traffic_jam`：堵车\n",
    "4. `back_off`：倒车\n",
    "5. `turn`：转弯\n",
    "..."
   ]
  },
  {
   "cell_type": "code",
   "execution_count": 6,
   "metadata": {},
   "outputs": [],
   "source": [
    "condition_type = {'0':'others','1':'daytime','2':'night_normal','3':'traffic_jam','4':'back_off','5':'turn',}"
   ]
  },
  {
   "cell_type": "code",
   "execution_count": 7,
   "metadata": {},
   "outputs": [
    {
     "name": "stdout",
     "output_type": "stream",
     "text": [
      "x 52722 | t 263583 | f 52722\n",
      "x 19731 | t 98719 | f 19731\n",
      "x 56166 | t 280785 | f 56166\n",
      "x 25865 | t 129344 | f 25865\n",
      "x 85296 | t 426596 | f 85296\n",
      "x 78463 | t 392182 | f 78463\n",
      "x 30538 | t 152650 | f 30538\n",
      "training on 331150/348781 examples\n",
      "25.75 ms\n",
      "[1559, 1589, 1619, 1649, 1679, 1709]\n",
      "1709\n",
      "[456.65684605412855, 473.5651472163431, 474.0320363476017, 483.7274631814419, 411.9968116928836, 480.85303737209796]\n",
      "[True, True, True, True, False, True]\n"
     ]
    },
    {
     "data": {
      "image/png": "[encoded data removed]",
      "text/plain": [
       "<Figure size 864x432 with 6 Axes>"
      ]
     },
     "metadata": {},
     "output_type": "display_data"
    }
   ],
   "source": [
    "data = next(gen)\n",
    "image = np.transpose(data[0],(0,1,3,4,2))  #image=(batch,time_length,height,width,channel)\n",
    "#index = data[2]       #a 2-d list : [[30,31,...59],[60,61,...,89],]\n",
    "index = data[3]        # a list : [30,60,90]\n",
    "print(data[3])\n",
    "glob = max(data[3])    # max number of a list\n",
    "print(glob)\n",
    "\n",
    "dist_mse=[]\n",
    "dist_l1=[]\n",
    "dist_psnr=[]\n",
    "dist_ssim=[]\n",
    "for k in range(image.shape[0]):\n",
    "    save_gif('./log_modefied/image_%d.gif'%k, image[k], fps=fps)\n",
    "    temp_image=image[k]\n",
    "    dist_mse.append([])\n",
    "    dist_l1.append([])\n",
    "    dist_psnr.append([])\n",
    "    dist_ssim.append([])\n",
    "    step = 3\n",
    "    for j in range(0,temp_image.shape[0],step):\n",
    "        if j+step >= temp_image.shape[0]:\n",
    "            break\n",
    "        dist_mse[k].append(metric_mse(temp_image[j],temp_image[j+step]))\n",
    "        dist_l1[k].append(metric_l1(temp_image[j],temp_image[j+step]))\n",
    "        dist_psnr[k].append(metric_psnr(temp_image[j],temp_image[j+step]))\n",
    "        dist_ssim[k].append(100*metric_ssim(temp_image[j],temp_image[j+step]))\n",
    "        \n",
    "x = range(0,temp_image.shape[0],step)[:-1]\n",
    "plt_row = 2\n",
    "plt_col = (k+plt_row)//plt_row\n",
    "plt.figure(figsize=(12, 6))\n",
    "font1 = {'weight' : 'heavy',  'size'   : 12,  }\n",
    "for i in range(k+1):\n",
    "    plt.subplot(plt_row,plt_col,i+1)\n",
    "    plt.ylim(-5,180)\n",
    "    plt.plot(x,dist_mse[i],'o-',label='mse',linewidth=1.5)\n",
    "    plt.plot(x,dist_l1[i],'o-.',label='l1',linewidth=1.5)\n",
    "    plt.plot(x,dist_psnr[i],'o-',label='psnr',linewidth=1.5)\n",
    "    plt.plot(x,dist_ssim[i],'o-.',label='ssim',linewidth=1.5)\n",
    "    plt.legend(loc='upper right', prop=font1, frameon=False)\n",
    "\n",
    "#plt.show()\n",
    "distance = []\n",
    "for k in range(len(dist_ssim)):\n",
    "    mse = np.mean(dist_mse[k])\n",
    "    l1 = np.mean(dist_l1[k])\n",
    "    psnr = np.mean(dist_psnr[k])\n",
    "    ssim = np.mean(dist_ssim[k])\n",
    "    mask = [0.1, 0.3, 0.1, 0.5]  # mse, l1, psnr, ssim\n",
    "    dist = [mse/50, l1/120, psnr/50, 1/(ssim)]\n",
    "    distance.append(1000*np.dot(mask, dist))\n",
    "    \n",
    "print(distance)\n",
    "threshold = 450\n",
    "logic = [k>threshold for k in distance]\n",
    "print(logic)\n",
    "index = [data[3][k] for k in range(len(logic)) if logic[k]==True]"
   ]
  },
  {
   "cell_type": "markdown",
   "metadata": {},
   "source": [
    "## decide if select this index !!!"
   ]
  },
  {
   "cell_type": "code",
   "execution_count": 14,
   "metadata": {},
   "outputs": [],
   "source": [
    "d_type = [condition_type['0']]\n",
    "#save_log(glob = glob, data_type = None, index = [])\n",
    "save_log(glob = str(glob), data_type = d_type, index = index)"
   ]
  },
  {
   "cell_type": "code",
   "execution_count": 10,
   "metadata": {},
   "outputs": [
    {
     "name": "stdout",
     "output_type": "stream",
     "text": [
      "117\n"
     ]
    }
   ],
   "source": [
    "print(read_log())"
   ]
  },
  {
   "cell_type": "markdown",
   "metadata": {},
   "source": [
    "## read images directly by index"
   ]
  },
  {
   "cell_type": "code",
   "execution_count": 7,
   "metadata": {},
   "outputs": [
    {
     "name": "stdout",
     "output_type": "stream",
     "text": [
      "x 52722 | t 263583 | f 52722\n",
      "x 19731 | t 98719 | f 19731\n",
      "x 56166 | t 280785 | f 56166\n",
      "x 25865 | t 129344 | f 25865\n",
      "x 85296 | t 426596 | f 85296\n",
      "x 78463 | t 392182 | f 78463\n",
      "x 30538 | t 152650 | f 30538\n",
      "training on 331150/348781 examples\n",
      "16.03 ms\n"
     ]
    }
   ],
   "source": [
    "step = 344481\n",
    "(image,idx) = read_by_idx(datapath, time_len=time_length, batch_size=pack_size, ignore_goods=False, global_idx=step)\n",
    "for k in range(image.shape[0]):\n",
    "    save_gif('./log_modefied/%d.gif'%idx[k], image[k], fps=fps)"
   ]
  },
  {
   "cell_type": "code",
   "execution_count": 15,
   "metadata": {},
   "outputs": [
    {
     "name": "stdout",
     "output_type": "stream",
     "text": [
      "inuse : 7277  66.64 %\n",
      "nouse : 3643  33.36 %\n"
     ]
    }
   ],
   "source": [
    "with open('./log_modefied/train_index.json', 'r') as f:\n",
    "    info = json.load(f)\n",
    "    inuse = len(info['others'])\n",
    "with open('./log_modefied/false_index.json', 'r') as f:\n",
    "    info = json.load(f)\n",
    "    nouse = len(info['false'])\n",
    "print('inuse : %d  %2.2f %%'% (inuse, 100*inuse/(inuse+nouse)))\n",
    "print('nouse : %d  %2.2f %%'% (nouse, 100*nouse/(inuse+nouse)))"
   ]
  },
  {
   "cell_type": "markdown",
   "metadata": {},
   "source": [
    "---\n",
    "## run this block if above video needs to be saved\n",
    "文件中含有已被选取的图像帧的index，每次需要增加新的图像帧时运行下面的块"
   ]
  },
  {
   "cell_type": "code",
   "execution_count": 45,
   "metadata": {},
   "outputs": [
    {
     "name": "stdout",
     "output_type": "stream",
     "text": [
      "<class 'numpy.lib.npyio.NpzFile'>\n",
      "selected\n",
      "global_idx\n"
     ]
    }
   ],
   "source": [
    "import numpy as np\n",
    "\n",
    "try:\n",
    "    info = np.load('./log_modefied/train_index.npz')\n",
    "    print(type(info))\n",
    "    for k in info:\n",
    "        print(k)\n",
    "    #temp = info['selected']\n",
    "    #index = np.append(temp,index)\n",
    "    index = np.concatenate((info['selected'], index), axis=0)\n",
    "    #info['global_idx'] = glob\n",
    "    \n",
    "except FileNotFoundError:\n",
    "    index=[]\n",
    "    glob=0\n",
    "    pass\n",
    "    \n",
    "np.savez('./log_modefied/train_index.npz', selected=index, global_idx=glob)"
   ]
  },
  {
   "cell_type": "code",
   "execution_count": 39,
   "metadata": {},
   "outputs": [
    {
     "name": "stdout",
     "output_type": "stream",
     "text": [
      "[1, 2, 1, 2, 1, 2, 1, 2]\n"
     ]
    }
   ],
   "source": [
    "selected = np.load('index.npz')\n",
    "print(list(selected['selected']))"
   ]
  },
  {
   "cell_type": "markdown",
   "metadata": {},
   "source": [
    "## operate json file"
   ]
  },
  {
   "cell_type": "code",
   "execution_count": 66,
   "metadata": {},
   "outputs": [],
   "source": [
    "import json\n",
    "data_type = 'hello'\n",
    "index = 666\n",
    "glob = 50\n",
    "\n",
    "try:\n",
    "    with open('./log_modefied/train_index.json', 'r') as f:\n",
    "        info = json.load(f)\n",
    "    #print(type(info))\n",
    "    #info = info[0]\n",
    "    info['glob'] = glob\n",
    "    if data_type not in info.keys():\n",
    "        info[data_type] = [index]\n",
    "    else:\n",
    "        info[data_type] = info[data_type] + [index]\n",
    "    \n",
    "except FileNotFoundError:\n",
    "    info = {'glob':0}\n",
    "    pass\n",
    "    \n",
    "with open('./log_modefied/train_index.json', 'w') as f:\n",
    "    f.write(json.dumps(info))"
   ]
  },
  {
   "cell_type": "code",
   "execution_count": 67,
   "metadata": {},
   "outputs": [
    {
     "name": "stdout",
     "output_type": "stream",
     "text": [
      "{'glob': 50, 'haha': [15, 15], 'hello': [666]}\n",
      "glob 50\n",
      "haha [15, 15]\n",
      "hello [666]\n"
     ]
    }
   ],
   "source": [
    "with open('./log_modefied/train_index.json', 'r') as f:\n",
    "    info = json.load(f)\n",
    "    \n",
    "print(info)\n",
    "for k in info:\n",
    "    print(k,info[k])"
   ]
  },
  {
   "cell_type": "code",
   "execution_count": 63,
   "metadata": {},
   "outputs": [],
   "source": [
    "f.close()"
   ]
  },
  {
   "cell_type": "markdown",
   "metadata": {},
   "source": [
    "## exercise for some grammar"
   ]
  },
  {
   "cell_type": "code",
   "execution_count": 2,
   "metadata": {},
   "outputs": [],
   "source": [
    "datapath = [\n",
    "    './camera/2016-01-30--11-24-51.h5',\n",
    "    './camera/2016-01-31--19-19-25.h5',\n",
    "    './camera/2016-02-02--10-16-58.h5',\n",
    "    './camera/2016-02-08--14-56-28.h5',\n",
    "]\n",
    "\n",
    "time_length = 30\n",
    "pack_size = 1   # 每个tfrecords文件中有256个视频序列\n",
    "# yield (X_batch, angle_batch, speed_batch, dset_num)\n",
    "gen = datagen(datapath, time_len=time_length, batch_size=pack_size, ignore_goods=False)"
   ]
  },
  {
   "cell_type": "code",
   "execution_count": 1,
   "metadata": {},
   "outputs": [],
   "source": [
    "#data = next(gen)"
   ]
  },
  {
   "cell_type": "code",
   "execution_count": 46,
   "metadata": {},
   "outputs": [
    {
     "name": "stdout",
     "output_type": "stream",
     "text": [
      "[1, 2, 3, 4]\n"
     ]
    }
   ],
   "source": [
    "print([1,2]+[3,4])"
   ]
  },
  {
   "cell_type": "code",
   "execution_count": 22,
   "metadata": {},
   "outputs": [
    {
     "name": "stdout",
     "output_type": "stream",
     "text": [
      "[[1], [2]]\n"
     ]
    }
   ],
   "source": [
    "distance=[[],[]]\n",
    "distance[0].append(1)\n",
    "distance[1].append(2)\n",
    "print(distance)"
   ]
  },
  {
   "cell_type": "code",
   "execution_count": 23,
   "metadata": {},
   "outputs": [
    {
     "name": "stdout",
     "output_type": "stream",
     "text": [
      "[[1], [2], []]\n"
     ]
    }
   ],
   "source": [
    "distance.append([])\n",
    "print(distance)"
   ]
  },
  {
   "cell_type": "code",
   "execution_count": 24,
   "metadata": {},
   "outputs": [
    {
     "name": "stdout",
     "output_type": "stream",
     "text": [
      "2\n"
     ]
    }
   ],
   "source": [
    "for k in range(3):\n",
    "    pass\n",
    "\n",
    "print(k)"
   ]
  },
  {
   "cell_type": "code",
   "execution_count": 13,
   "metadata": {},
   "outputs": [
    {
     "data": {
      "text/plain": [
       "[1739, 1769, 1799, 1829, 1889]"
      ]
     },
     "execution_count": 13,
     "metadata": {},
     "output_type": "execute_result"
    }
   ],
   "source": [
    "[data[3][k] for k in range(len(logic)) if logic[k]==True]"
   ]
  },
  {
   "cell_type": "code",
   "execution_count": 11,
   "metadata": {},
   "outputs": [
    {
     "data": {
      "text/plain": [
       "[1739, 1769, 1799, 1829, 1859, 1889]"
      ]
     },
     "execution_count": 11,
     "metadata": {},
     "output_type": "execute_result"
    }
   ],
   "source": [
    "data[3]"
   ]
  },
  {
   "cell_type": "code",
   "execution_count": null,
   "metadata": {},
   "outputs": [],
   "source": [
    "\"\"\"\n",
    "This file is named after `dask` for historical reasons. We first tried to\n",
    "use dask to coordinate the hdf5 buckets but it was slow and we wrote our own\n",
    "stuff.\n",
    "\"\"\"\n",
    "import numpy as np\n",
    "import h5py\n",
    "import time\n",
    "import logging\n",
    "import traceback\n",
    "\n",
    "# logging.basicConfig(level=logging.DEBUG)\n",
    "logger = logging.getLogger(__name__)\n",
    "\n",
    "\n",
    "def concatenate(camera_names, time_len):\n",
    "    logs_names = [x.replace('camera', 'log') for x in camera_names]\n",
    "\n",
    "    angle = []  # steering angle of the car\n",
    "    speed = []  # steering angle of the car\n",
    "    hdf5_camera = []  # the camera hdf5 files need to continue open\n",
    "    c5x = []\n",
    "    filters = []\n",
    "    lastidx = 0\n",
    "\n",
    "  for cword, tword in zip(camera_names, logs_names):\n",
    "    try:\n",
    "      with h5py.File(tword, \"r\") as t5:\n",
    "        c5 = h5py.File(cword, \"r\")\n",
    "        hdf5_camera.append(c5)               #打开的文件\n",
    "        x = c5[\"X\"]\n",
    "        c5x.append((lastidx, lastidx+x.shape[0], x))\n",
    "\n",
    "        speed_value = t5[\"speed\"][:]\n",
    "        steering_angle = t5[\"steering_angle\"][:]\n",
    "        idxs = np.linspace(0, steering_angle.shape[0]-1, x.shape[0]).astype(\"int\")  # approximate alignment\n",
    "        angle.append(steering_angle[idxs])   #angle标记数据\n",
    "        speed.append(speed_value[idxs])      #speed标记数据\n",
    "\n",
    "        goods = np.abs(angle[-1]) <= 200\n",
    "\n",
    "        #print(np.argwhere(goods)[time_len-1:])\n",
    "        filters.append(np.argwhere(goods)[time_len-1:] + (lastidx+time_len-1))\n",
    "        #print(filters)\n",
    "        lastidx += goods.shape[0]\n",
    "        # check for mismatched length bug\n",
    "        print(\"x {} | t {} | f {}\".format(x.shape[0], steering_angle.shape[0], goods.shape[0]))\n",
    "        if x.shape[0] != angle[-1].shape[0] or x.shape[0] != goods.shape[0]:\n",
    "          raise Exception(\"bad shape\")\n",
    "\n",
    "    except IOError:\n",
    "      import traceback\n",
    "      traceback.print_exc()\n",
    "      print(\"failed to open\", tword)\n",
    "\n",
    "  angle = np.concatenate(angle, axis=0)\n",
    "  speed = np.concatenate(speed, axis=0)\n",
    "  filters = np.concatenate(filters, axis=0).ravel()\n",
    "  print(\"training on %d/%d examples\" % (filters.shape[0], angle.shape[0]))\n",
    "  dset_num = filters.shape[0]\n",
    "  #return dset_num, c5x, angle, speed, filters, hdf5_camera\n",
    "  return dset_num, c5x, filters, hdf5_camera\n",
    "\n",
    "\n",
    "#first = True\n",
    "#index\n",
    "\n",
    "def datagen(filter_files, time_len=1, batch_size=1, ignore_goods=False, global_idx=0):\n",
    "  \"\"\"\n",
    "  Parameters:\n",
    "  -----------\n",
    "  leads : bool, should we use all x, y and speed radar leads? default is false, uses only x\n",
    "  \"\"\"\n",
    "  #global first\n",
    "  #global index\n",
    "  assert time_len > 0\n",
    "  filter_names = sorted(filter_files)\n",
    "\n",
    "  logger.info(\"Loading {} hdf5 buckets.\".format(len(filter_names)))\n",
    "\n",
    "  dset_num, c5x, filters, hdf5_camera = concatenate(filter_names, time_len=time_len)\n",
    "  filters_set = set(filters)\n",
    "\n",
    "  logger.info(\"camera files {}\".format(len(c5x)))\n",
    "\n",
    "  X_batch = np.zeros((batch_size, time_len, 3, 160, 320), dtype='uint8')\n",
    "  #angle_batch = np.zeros((batch_size, time_len, 1), dtype='float32')\n",
    "  #speed_batch = np.zeros((batch_size, time_len, 1), dtype='float32')\n",
    "\n",
    "  glob = global_idx if global_idx else filters[time_len-1]   #增加的\n",
    "  \n",
    "\n",
    "  while glob <= filters[-1]:\n",
    "    try:\n",
    "      t = time.time()\n",
    "      index = []\n",
    "      glob_idx = []\n",
    "      count = 0\n",
    "      start = time.time()\n",
    "      while count < batch_size:\n",
    "        index.append([])\n",
    "        if not ignore_goods:\n",
    "          #i = np.random.choice(filters)\n",
    "          i = glob\n",
    "          # check the time history for goods\n",
    "          good = True\n",
    "          for j in range(i-time_len+1, i+1):   #加了range\n",
    "            if j not in filters_set:\n",
    "              good = False\n",
    "          if not good:\n",
    "            glob = glob + 1             #增加的\n",
    "            continue\n",
    "          index[count] = range(glob-time_len+1,glob+1)\n",
    "          glob = glob + time_len        #增加的\n",
    "          glob_idx.append(glob)\n",
    "\n",
    "        else:\n",
    "          #i = np.random.randint(time_len+1, len(angle), 1)\n",
    "          raise NotImplementedError \n",
    "\n",
    "        # GET X_BATCH\n",
    "        # low quality loop\n",
    "        for es, ee, x in c5x:\n",
    "          if i >= es and i < ee:\n",
    "            X_batch[count] = x[i-es-time_len+1:i-es+1]\n",
    "            break\n",
    "\n",
    "        #angle_batch[count] = np.copy(angle[i-time_len+1:i+1])[:, None]\n",
    "        #speed_batch[count] = np.copy(speed[i-time_len+1:i+1])[:, None]\n",
    "\n",
    "        count += 1\n",
    "\n",
    "      # sanity check\n",
    "      assert X_batch.shape == (batch_size, time_len, 3, 160, 320)\n",
    "\n",
    "      logging.debug(\"load image : {}s\".format(time.time()-t))\n",
    "      print(\"%5.2f ms\" % ((time.time()-start)*1000.0))\n",
    "\n",
    "      #if first:\n",
    "        #print(\"X\", X_batch.shape)\n",
    "        #print(\"angle\", angle_batch.shape)\n",
    "        #print(\"speed\", speed_batch.shape)\n",
    "        # time.sleep(3)\n",
    "        #first = False\n",
    "\n",
    "      #X_batch = np.transpose(X_batch,(0,1,3,4,2))   # 将图像形状由(3,hwight,width)转换为(height,width,3)\n",
    "      #yield (X_batch, angle_batch, speed_batch, dset_num, index)\n",
    "      yield (X_batch, dset_num, index, glob_idx)\n",
    "\n",
    "    except KeyboardInterrupt:\n",
    "      raise\n",
    "    except:\n",
    "      traceback.print_exc()\n",
    "      pass\n",
    "  print('all done!')\n",
    "  exit()\n",
    "\n",
    "def read_by_idx(filter_files, time_len=1, batch_size=1, ignore_goods=False, global_idx=0):\n",
    "  assert time_len > 0\n",
    "  filter_names = sorted(filter_files)\n",
    "\n",
    "  dset_num, c5x, filters, hdf5_camera = concatenate(filter_names, time_len=time_len)\n",
    "  filters_set = set(filters)\n",
    "\n",
    "  X_batch = np.zeros((batch_size, time_len, 3, 160, 320), dtype='uint8')\n",
    "\n",
    "  index = global_idx   #增加的\n",
    "\n",
    "  while True:\n",
    "    try:\n",
    "      t = time.time()\n",
    "\n",
    "      glob_idx = []\n",
    "      count = 0\n",
    "      start = time.time()\n",
    "      while count < batch_size:\n",
    "        if not ignore_goods:\n",
    "          i = index\n",
    "          good = True\n",
    "          for j in range(i-time_len+1, i+1):   #加了range\n",
    "            if j not in filters_set:\n",
    "              good = False\n",
    "          if not good:\n",
    "            index = index + 1             #增加的\n",
    "            continue\n",
    "          glob_idx.append(index)\n",
    "          index = index + time_len        #增加的\n",
    "\n",
    "        else:\n",
    "          raise NotImplementedError \n",
    "\n",
    "        # GET X_BATCH\n",
    "        # low quality loop\n",
    "        for es, ee, x in c5x:\n",
    "          if i >= es and i < ee:\n",
    "            X_batch[count] = x[i-es-time_len+1:i-es+1]\n",
    "            break\n",
    "\n",
    "        count += 1\n",
    "\n",
    "      # sanity check\n",
    "      assert X_batch.shape == (batch_size, time_len, 3, 160, 320)\n",
    "\n",
    "      print(\"%5.2f ms\" % ((time.time()-start)*1000.0))\n",
    "\n",
    "      return (np.transpose(X_batch,(0,1,3,4,2)), glob_idx)\n",
    "\n",
    "    except KeyboardInterrupt:\n",
    "      raise\n",
    "    except:\n",
    "      traceback.print_exc()\n",
    "      pass\n"
   ]
  }
 ],
 "metadata": {
  "kernelspec": {
   "display_name": "Python 3",
   "language": "python",
   "name": "python3"
  },
  "language_info": {
   "codemirror_mode": {
    "name": "ipython",
    "version": 3
   },
   "file_extension": ".py",
   "mimetype": "text/x-python",
   "name": "python",
   "nbconvert_exporter": "python",
   "pygments_lexer": "ipython3",
   "version": "3.6.5"
  }
 },
 "nbformat": 4,
 "nbformat_minor": 2
}
